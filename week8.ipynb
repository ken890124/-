{
  "nbformat": 4,
  "nbformat_minor": 0,
  "metadata": {
    "colab": {
      "name": "week8.ipynb",
      "provenance": [],
      "collapsed_sections": [],
      "authorship_tag": "ABX9TyOf/JH2oLep+lyd67RrwipX",
      "include_colab_link": true
    },
    "kernelspec": {
      "name": "python3",
      "display_name": "Python 3"
    }
  },
  "cells": [
    {
      "cell_type": "markdown",
      "metadata": {
        "id": "view-in-github",
        "colab_type": "text"
      },
      "source": [
        "<a href=\"https://colab.research.google.com/github/ken890124/-/blob/master/week8.ipynb\" target=\"_parent\"><img src=\"https://colab.research.google.com/assets/colab-badge.svg\" alt=\"Open In Colab\"/></a>"
      ]
    },
    {
      "cell_type": "code",
      "metadata": {
        "id": "bO7vCC_3HzVr",
        "outputId": "98f11836-9bff-47c2-89f4-908bad27bcef",
        "colab": {
          "base_uri": "https://localhost:8080/"
        }
      },
      "source": [
        "cloth = int(input('請輸入上衣數量?'))\n",
        "trousers = int(input('請輸入褲子數量'))\n",
        "vest = int(input('請輸入背心數量'))\n",
        "\n",
        "total = cloth*300 + trousers*350 + vest*400\n",
        "\n",
        "print('訂購服裝總金額為',total)"
      ],
      "execution_count": 9,
      "outputs": [
        {
          "output_type": "stream",
          "text": [
            "請輸入上衣數量?100\n",
            "請輸入褲子數量200\n",
            "請輸入背心數量300\n",
            "訂購服裝總金額為 220000\n"
          ],
          "name": "stdout"
        }
      ]
    },
    {
      "cell_type": "code",
      "metadata": {
        "id": "EP1qwHliLTwQ",
        "outputId": "046cfd5c-fdcc-4133-956c-c6a48fdb09ef",
        "colab": {
          "base_uri": "https://localhost:8080/"
        }
      },
      "source": [
        "cans = int(input('請輸入購買飲料罐數?'))\n",
        "total = (cans//12)*200 + (cans%12)*20\n",
        "print('需花費',total)"
      ],
      "execution_count": 7,
      "outputs": [
        {
          "output_type": "stream",
          "text": [
            "請輸入購買飲料罐數?30\n",
            "需花費 520\n"
          ],
          "name": "stdout"
        }
      ]
    },
    {
      "cell_type": "code",
      "metadata": {
        "id": "rznJcHaYMmGW",
        "outputId": "7cba667e-8618-496a-b959-0bc29f90045f",
        "colab": {
          "base_uri": "https://localhost:8080/"
        }
      },
      "source": [
        "fir = int(input('請輸入第一次期中考成績?'))\n",
        "sec = int(input('請輸入第二次期中考成績?'))\n",
        "final = int(input('請輸入期末考成績?'))\n",
        "\n",
        "sum = fir + sec + final\n",
        "avg = sum/3\n",
        "\n",
        "print('總分為',sum,'平均為',avg,)"
      ],
      "execution_count": 13,
      "outputs": [
        {
          "output_type": "stream",
          "text": [
            "請輸入第一次期中考成績?75\n",
            "請輸入第二次期中考成績?80\n",
            "請輸入期末考成績?65\n",
            "總分為 220 平均為 73.33333333333333\n"
          ],
          "name": "stdout"
        }
      ]
    }
  ]
}