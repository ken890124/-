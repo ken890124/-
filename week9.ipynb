{
  "nbformat": 4,
  "nbformat_minor": 0,
  "metadata": {
    "colab": {
      "name": "week9.ipynb",
      "provenance": [],
      "authorship_tag": "ABX9TyM/c7CjlRRdGEEkSKdLkBXw",
      "include_colab_link": true
    },
    "kernelspec": {
      "name": "python3",
      "display_name": "Python 3"
    }
  },
  "cells": [
    {
      "cell_type": "markdown",
      "metadata": {
        "id": "view-in-github",
        "colab_type": "text"
      },
      "source": [
        "<a href=\"https://colab.research.google.com/github/ken890124/-/blob/master/week9.ipynb\" target=\"_parent\"><img src=\"https://colab.research.google.com/assets/colab-badge.svg\" alt=\"Open In Colab\"/></a>"
      ]
    },
    {
      "cell_type": "code",
      "metadata": {
        "id": "gXqOYkXAw_Wt",
        "outputId": "3c46e03a-af5f-41da-9dca-d1cb51e100f4",
        "colab": {
          "base_uri": "https://localhost:8080/"
        }
      },
      "source": [
        "座號 = int(input('請輸入座號?')) \n",
        "組別 = (座號-1)//5 + 1\n",
        "print('組別為',組別)"
      ],
      "execution_count": 7,
      "outputs": [
        {
          "output_type": "stream",
          "text": [
            "請輸入座號?19\n",
            "組別為 4\n"
          ],
          "name": "stdout"
        }
      ]
    },
    {
      "cell_type": "code",
      "metadata": {
        "id": "d0OKGAb5zGlx",
        "outputId": "dbb15f17-7e6f-437d-f4a5-6bb6d3ad28cb",
        "colab": {
          "base_uri": "https://localhost:8080/"
        }
      },
      "source": [
        "import math\n",
        "number = int(input('請輸入座號?'))\n",
        "group = math.ceil(number/5)\n",
        "print(\"組別為\",group)"
      ],
      "execution_count": 8,
      "outputs": [
        {
          "output_type": "stream",
          "text": [
            "請輸入座號?19\n",
            "組別為 4\n"
          ],
          "name": "stdout"
        }
      ]
    }
  ]
}